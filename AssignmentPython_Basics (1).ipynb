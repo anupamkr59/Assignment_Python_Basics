{
  "nbformat": 4,
  "nbformat_minor": 0,
  "metadata": {
    "colab": {
      "provenance": []
    },
    "kernelspec": {
      "name": "python3",
      "display_name": "Python 3"
    },
    "language_info": {
      "name": "python"
    }
  },
  "cells": [
    {
      "cell_type": "markdown",
      "source": [
        "1. What is Python, and why is it popular?\n",
        "\n",
        "Ans. Python is a high-level, interpreted programming language known for its simplicity, readability, and versatility\n",
        "\n",
        "Python is popular because:\n",
        "a. it is easy to learn and use.\n",
        "b. it is versatile.\n",
        "c. it has large community and support.\n",
        "d, it is widely used for automation and scripting"
      ],
      "metadata": {
        "id": "2CW5XwyuH-Aw"
      }
    },
    {
      "cell_type": "markdown",
      "source": [
        "2. What is an interpreter in Python?\n",
        "\n",
        "Ans. An interpreter in Python is a program that reads and executes Python code line by line rather than compiling the entire code before running it."
      ],
      "metadata": {
        "id": "qhF1MMiZJCAl"
      }
    },
    {
      "cell_type": "markdown",
      "source": [
        "3. What are pre-defined keywords in Python?\n",
        "\n",
        "Ans. Predefined keywords in Python are reserved words that have special meanings and cannot be used as variable names, function names or identifiers. These keywords are essential for python's syntax and structure.\n",
        "\n",
        "ex- if, else, for, while, and, or, not..."
      ],
      "metadata": {
        "id": "sDIsi1H4Joje"
      }
    },
    {
      "cell_type": "markdown",
      "source": [
        "4. Can keywords be used as variable names?\n",
        "\n",
        "Ans. No, keywords can't be used as variable names."
      ],
      "metadata": {
        "id": "hjB_oH9tKYCv"
      }
    },
    {
      "cell_type": "markdown",
      "source": [
        "5. What is mutability in Python?\n",
        "\n",
        "Ans. The ability of an object to change after it has been created is termed as mutability. ex:- List, Set"
      ],
      "metadata": {
        "id": "CH0VerycKmKM"
      }
    },
    {
      "cell_type": "markdown",
      "source": [
        "6. Why are lists mutable, but tuples are immutable?\n",
        "\n",
        "Ans. List are mutable to support flexible data manipulation whereas tuples support data integrity,hashability\n",
        "Python provides appropriate data types for different use case. List for dynamic and modifiable collection and Tuple for fixed and unchanging data"
      ],
      "metadata": {
        "id": "2dOem-7vKnba"
      }
    },
    {
      "cell_type": "markdown",
      "source": [
        "7. What is the difference between “==” and “is” operators in Python?\n",
        "\n",
        "Ans. The \"==\" opertaor is used to compare the value of two objects whereas \"is\" operator is used to compare the memory location of two objects.\n",
        "ex:- a = 1\n",
        "     b = 1\n",
        "     a == b #true (as value is same)\n",
        "     a is b #false (as both object have different memory location{id})"
      ],
      "metadata": {
        "id": "Mf9QY9-HMwjx"
      }
    },
    {
      "cell_type": "markdown",
      "source": [
        "8. What are logical operators in Python?\n",
        "\n",
        "Ans. Logical operators are used to combine the conditional statement and return a Boolean result as True or False.\n",
        "\n",
        "3 Logical Operators are there:- AND, OR and NOT"
      ],
      "metadata": {
        "id": "o7V91wfyNyLL"
      }
    },
    {
      "cell_type": "markdown",
      "source": [
        "9. What is type casting in Python?\n",
        "\n",
        "Ans. Type casting refers to converting one data type to other of a variable. It can be done implicitly as well as explicitly."
      ],
      "metadata": {
        "id": "L_6_i09aQFQ7"
      }
    },
    {
      "cell_type": "markdown",
      "source": [
        "10. What is the difference between implicit and explicit type casting?\n",
        "\n",
        "Ans. Implicit Typecasting- Python automatically coverts the value of a variable by its own from one data type to another. ex:-Converting a value from int to float while printing the sum of two numbers having one number in int and the other in float.\n",
        "\n",
        "Explicit Typecasting- Manually the data type of a variable is converted to other data type. ex:- By default input function assume data enteres as string, so explicilty it is defined as int, if value is required as an int\n",
        "\n"
      ],
      "metadata": {
        "id": "iK0zR_poQ7NH"
      }
    },
    {
      "cell_type": "markdown",
      "source": [
        "11. What is the purpose of conditional statements in Python?\n",
        "\n",
        "Ans. Conditional statement is used to control the flow of execution in a program based on certain conditions.\n",
        "\n",
        "ex:- if, elif, else"
      ],
      "metadata": {
        "id": "7LE7BwrASETB"
      }
    },
    {
      "cell_type": "markdown",
      "source": [
        "12. How does the elif statement work?\n",
        "\n",
        "Ans. Elif checks additional conditions if the previous if or else statements were false."
      ],
      "metadata": {
        "id": "pcHeh8VZS1s0"
      }
    },
    {
      "cell_type": "markdown",
      "source": [
        "13. What is the difference between for and while loops?\n",
        "\n",
        "Ans. For loop is preferable when number of iteration is known whereas while loop is preferable when number of iteration is unknown\n",
        "\n",
        "For loop iterated over a sequence and while loop iterated till the condition is true\n",
        "\n",
        "ex:- for i in range(10): ; while i < 10:"
      ],
      "metadata": {
        "id": "81J86HloTbiC"
      }
    },
    {
      "cell_type": "markdown",
      "source": [
        "14. Describe a scenario where a while loop is more suitable than a for loop?\n",
        "\n",
        "Ans. For loop is preferable when number of iteration is known whereas while loop is preferable when number of iteration is unknown\n",
        "\n",
        "Usecase: - A user can enter incorrect password for maximum of 3 times and after that access will revoked."
      ],
      "metadata": {
        "id": "PA8Q4Xg3VA2q"
      }
    },
    {
      "cell_type": "code",
      "execution_count": null,
      "metadata": {
        "colab": {
          "base_uri": "https://localhost:8080/"
        },
        "id": "vfDUHTmnH55T",
        "outputId": "5c8c6a97-7616-4c5e-caaa-9f0069d6df2b"
      },
      "outputs": [
        {
          "output_type": "stream",
          "name": "stdout",
          "text": [
            "Hello, World!\n"
          ]
        }
      ],
      "source": [
        "#Practical Questions\n",
        "# 1. Write a Python program to print \"Hello, World!\n",
        "\n",
        "print (\"Hello, World!\")"
      ]
    },
    {
      "cell_type": "code",
      "source": [
        "# 2. Write a Python program that displays your name and age\n",
        "\n",
        "name = input(\"Enter your name \")\n",
        "age = int(input(\"Enter your age \"))\n",
        "print (f\"Name is {name} and age is {age}\")"
      ],
      "metadata": {
        "colab": {
          "base_uri": "https://localhost:8080/"
        },
        "id": "mM17YYZ0WHRk",
        "outputId": "efcc484c-83bb-4e81-a0f0-1746bb0f7a74"
      },
      "execution_count": null,
      "outputs": [
        {
          "output_type": "stream",
          "name": "stdout",
          "text": [
            "Enter your name Anupam\n",
            "Enter your age 28\n",
            "Name is Anupam and age is 28\n"
          ]
        }
      ]
    },
    {
      "cell_type": "code",
      "source": [
        "# 3. Write code to print all the pre-defined keywords in Python using the keyword library\n",
        "\n",
        "import keyword\n",
        "print(\"Python Keywords\")\n",
        "for kw in keyword.kwlist:\n",
        "  print(kw)\n"
      ],
      "metadata": {
        "colab": {
          "base_uri": "https://localhost:8080/"
        },
        "id": "MmjOmIz-Wn4D",
        "outputId": "d0972752-2141-4cf4-8f52-c76615193d23"
      },
      "execution_count": null,
      "outputs": [
        {
          "output_type": "stream",
          "name": "stdout",
          "text": [
            "Python Keywords\n",
            "False\n",
            "None\n",
            "True\n",
            "and\n",
            "as\n",
            "assert\n",
            "async\n",
            "await\n",
            "break\n",
            "class\n",
            "continue\n",
            "def\n",
            "del\n",
            "elif\n",
            "else\n",
            "except\n",
            "finally\n",
            "for\n",
            "from\n",
            "global\n",
            "if\n",
            "import\n",
            "in\n",
            "is\n",
            "lambda\n",
            "nonlocal\n",
            "not\n",
            "or\n",
            "pass\n",
            "raise\n",
            "return\n",
            "try\n",
            "while\n",
            "with\n",
            "yield\n"
          ]
        }
      ]
    },
    {
      "cell_type": "code",
      "source": [
        "# 4. Write a program that checks if a given word is a Python keyword\n",
        "\n",
        "import keyword\n",
        "word = input(\"Enter a word \")\n",
        "\n",
        "if word in keyword.kwlist:\n",
        "  print(\"It is a keyword\")\n",
        "else:\n",
        "  print(\"Not a keyword\")"
      ],
      "metadata": {
        "colab": {
          "base_uri": "https://localhost:8080/"
        },
        "id": "76Fc9z1bXq6i",
        "outputId": "679e2896-8a88-4ffe-fabb-8cbcaf44aa05"
      },
      "execution_count": null,
      "outputs": [
        {
          "output_type": "stream",
          "name": "stdout",
          "text": [
            "Enter a word int\n",
            "Not a keyword\n"
          ]
        }
      ]
    },
    {
      "cell_type": "code",
      "source": [
        "# 5. Create a list and tuple in Python, and demonstrate how attempting to change an element works differently\n",
        "\n",
        "lis = [\"Anupam\", \"Rupam\", 1, 2,3, 5.5]\n",
        "tup = (\"Anupam\", \"Rupam\", 1, 2,3, 5.5)\n",
        "lis[0]=\"Ram\"\n",
        "tup[0]=\"Ram\"\n",
        "print(lis)\n",
        "print(tup)"
      ],
      "metadata": {
        "colab": {
          "base_uri": "https://localhost:8080/",
          "height": 211
        },
        "id": "CwuSn20_Yk7x",
        "outputId": "c3319bc0-51e3-48e9-e704-e8fc0c847214"
      },
      "execution_count": null,
      "outputs": [
        {
          "output_type": "error",
          "ename": "TypeError",
          "evalue": "'tuple' object does not support item assignment",
          "traceback": [
            "\u001b[0;31m---------------------------------------------------------------------------\u001b[0m",
            "\u001b[0;31mTypeError\u001b[0m                                 Traceback (most recent call last)",
            "\u001b[0;32m<ipython-input-9-b3c333edcfa7>\u001b[0m in \u001b[0;36m<cell line: 0>\u001b[0;34m()\u001b[0m\n\u001b[1;32m      4\u001b[0m \u001b[0mtup\u001b[0m \u001b[0;34m=\u001b[0m \u001b[0;34m(\u001b[0m\u001b[0;34m\"Anupam\"\u001b[0m\u001b[0;34m,\u001b[0m \u001b[0;34m\"Rupam\"\u001b[0m\u001b[0;34m,\u001b[0m \u001b[0;36m1\u001b[0m\u001b[0;34m,\u001b[0m \u001b[0;36m2\u001b[0m\u001b[0;34m,\u001b[0m\u001b[0;36m3\u001b[0m\u001b[0;34m,\u001b[0m \u001b[0;36m5.5\u001b[0m\u001b[0;34m)\u001b[0m\u001b[0;34m\u001b[0m\u001b[0;34m\u001b[0m\u001b[0m\n\u001b[1;32m      5\u001b[0m \u001b[0mlis\u001b[0m\u001b[0;34m[\u001b[0m\u001b[0;36m0\u001b[0m\u001b[0;34m]\u001b[0m\u001b[0;34m=\u001b[0m\u001b[0;34m\"Ram\"\u001b[0m\u001b[0;34m\u001b[0m\u001b[0;34m\u001b[0m\u001b[0m\n\u001b[0;32m----> 6\u001b[0;31m \u001b[0mtup\u001b[0m\u001b[0;34m[\u001b[0m\u001b[0;36m0\u001b[0m\u001b[0;34m]\u001b[0m\u001b[0;34m=\u001b[0m\u001b[0;34m\"Ram\"\u001b[0m\u001b[0;34m\u001b[0m\u001b[0;34m\u001b[0m\u001b[0m\n\u001b[0m\u001b[1;32m      7\u001b[0m \u001b[0mprint\u001b[0m\u001b[0;34m(\u001b[0m\u001b[0mlis\u001b[0m\u001b[0;34m)\u001b[0m\u001b[0;34m\u001b[0m\u001b[0;34m\u001b[0m\u001b[0m\n\u001b[1;32m      8\u001b[0m \u001b[0mprint\u001b[0m\u001b[0;34m(\u001b[0m\u001b[0mtup\u001b[0m\u001b[0;34m)\u001b[0m\u001b[0;34m\u001b[0m\u001b[0;34m\u001b[0m\u001b[0m\n",
            "\u001b[0;31mTypeError\u001b[0m: 'tuple' object does not support item assignment"
          ]
        }
      ]
    },
    {
      "cell_type": "code",
      "source": [
        "# 6 & 7. Write a function to demonstrate the behavior of mutable and immutable arguments\n",
        "\n",
        "# Ans. Functions are not covered yet\n",
        "\n"
      ],
      "metadata": {
        "id": "femD_iYqaF04"
      },
      "execution_count": null,
      "outputs": []
    },
    {
      "cell_type": "code",
      "source": [
        "# 8. Write a program to demonstrate the use of logical operators\n",
        "\n",
        "x = 10\n",
        "y = 5\n",
        "z = 15\n",
        "if (x > 5) and (y < 10):\n",
        "  print(\"And operator is true if both condition is true\")\n",
        "if (x < 5) or (y < 10):\n",
        "  print(\"Or operator is true if any condition is true\")\n",
        "print (not(x==y))"
      ],
      "metadata": {
        "colab": {
          "base_uri": "https://localhost:8080/"
        },
        "id": "-hIihmd4bw0A",
        "outputId": "0ea07f04-ffd2-48f7-e410-e6acfb7b06b4"
      },
      "execution_count": null,
      "outputs": [
        {
          "output_type": "stream",
          "name": "stdout",
          "text": [
            "And operator is true if both condition is true\n",
            "Or operator is true if any condition is true\n",
            "True\n"
          ]
        }
      ]
    },
    {
      "cell_type": "code",
      "source": [
        "# 9. Write a Python program to convert user input from string to integer, float, and boolean types\n",
        "# Ans. Exception handling, try catch yet it to be covered."
      ],
      "metadata": {
        "id": "AygcvUw7ct1t"
      },
      "execution_count": null,
      "outputs": []
    },
    {
      "cell_type": "code",
      "source": [
        "# 10. Write code to demonstrate type casting with list elements\n",
        "# Ans. Not covered\n"
      ],
      "metadata": {
        "id": "W5oLR7F4e4gj"
      },
      "execution_count": 10,
      "outputs": []
    },
    {
      "cell_type": "code",
      "source": [
        "# 11. Write a program that checks if a number is positive, negative, or zero\n",
        "number = int(input(\"Enter a number \"))\n",
        "if number == 0:\n",
        "  print(f\"{number} is zero\")\n",
        "elif number > 0:\n",
        "  print(f\"{number} is positive\")\n",
        "elif number < 0:\n",
        "  print(f\"{number} is negative\")\n",
        "else:\n",
        "  print(\"Invalid input\")\n",
        "\n"
      ],
      "metadata": {
        "colab": {
          "base_uri": "https://localhost:8080/"
        },
        "id": "yiqqxXDHlKaY",
        "outputId": "f205b6b1-6cc7-41b6-d756-5a6d8ad8b26e"
      },
      "execution_count": null,
      "outputs": [
        {
          "output_type": "stream",
          "name": "stdout",
          "text": [
            "Enter a number 9\n",
            "9 is positive\n"
          ]
        }
      ]
    },
    {
      "cell_type": "code",
      "source": [
        "# 12. Write a for loop to print numbers from 1 to 10\n",
        "for i in range(1,11):\n",
        "  print(i)"
      ],
      "metadata": {
        "colab": {
          "base_uri": "https://localhost:8080/"
        },
        "id": "2cvIcqzQmDI7",
        "outputId": "a2c14f82-c75b-4859-f404-3b1432e3514a"
      },
      "execution_count": null,
      "outputs": [
        {
          "output_type": "stream",
          "name": "stdout",
          "text": [
            "1\n",
            "2\n",
            "3\n",
            "4\n",
            "5\n",
            "6\n",
            "7\n",
            "8\n",
            "9\n",
            "10\n"
          ]
        }
      ]
    },
    {
      "cell_type": "code",
      "source": [
        "# 13. Write a Python program to find the sum of all even numbers between 1 and 50\n",
        "sum = 0\n",
        "for num in range(1,51):\n",
        "  if num % 2 == 0:\n",
        "    sum = sum + num\n",
        "  else:\n",
        "    sum = sum\n",
        "print(f\"The sum of all even numbers between 1 and 50 is {sum} \")\n"
      ],
      "metadata": {
        "colab": {
          "base_uri": "https://localhost:8080/"
        },
        "id": "WjYbta5bmc3E",
        "outputId": "22127b23-b795-4604-d2dd-585399bb406e"
      },
      "execution_count": null,
      "outputs": [
        {
          "output_type": "stream",
          "name": "stdout",
          "text": [
            "The sum of all even numbers between 1 and 50 is 650 \n"
          ]
        }
      ]
    },
    {
      "cell_type": "code",
      "source": [
        "# 14. Write a program to reverse a string using a while loop\n",
        "str = input(\"Enter a word \")\n",
        "str1 = \"\"\n",
        "index = len(str) - 1\n",
        "while index >= 0:\n",
        "  str1 += str[index]\n",
        "  index -= 1\n",
        "print(str1)\n",
        "\n"
      ],
      "metadata": {
        "colab": {
          "base_uri": "https://localhost:8080/"
        },
        "id": "CHuW_ugjnPjp",
        "outputId": "051d5787-00f3-4e5d-911f-46a7ad271d55"
      },
      "execution_count": null,
      "outputs": [
        {
          "output_type": "stream",
          "name": "stdout",
          "text": [
            "Enter a word ram\n",
            "mar\n"
          ]
        }
      ]
    },
    {
      "cell_type": "code",
      "source": [
        "# 15. Write a Python program to calculate the factorial of a number provided by the user using a while loop\n",
        "number = int(input(\"Enter a number \"))\n",
        "i = 1\n",
        "while number > 1:\n",
        "  i = i * number\n",
        "  number -= 1\n",
        "print(i)"
      ],
      "metadata": {
        "colab": {
          "base_uri": "https://localhost:8080/"
        },
        "id": "V8v7EiiZutjh",
        "outputId": "19e636cd-f0b1-44c7-9f05-393d3689f0a5"
      },
      "execution_count": null,
      "outputs": [
        {
          "output_type": "stream",
          "name": "stdout",
          "text": [
            "Enter a number 5\n",
            "120\n"
          ]
        }
      ]
    },
    {
      "cell_type": "code",
      "source": [],
      "metadata": {
        "id": "WRfRtjZ5yDbg"
      },
      "execution_count": null,
      "outputs": []
    }
  ]
}